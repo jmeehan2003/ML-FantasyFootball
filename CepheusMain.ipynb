{
 "cells": [
  {
   "cell_type": "code",
   "execution_count": 1,
   "metadata": {},
   "outputs": [
    {
     "name": "stderr",
     "output_type": "stream",
     "text": [
      "/home/ubuntu/anaconda3/envs/tensorflow_p36/lib/python3.6/site-packages/h5py/__init__.py:36: FutureWarning: Conversion of the second argument of issubdtype from `float` to `np.floating` is deprecated. In future, it will be treated as `np.float64 == np.dtype(float).type`.\n",
      "  from ._conv import register_converters as _register_converters\n"
     ]
    }
   ],
   "source": [
    "import tensorflow as tf\n",
    "from tensorflow import keras\n",
    "\n",
    "import numpy as np\n",
    "import pandas as pd\n",
    "from sklearn import preprocessing"
   ]
  },
  {
   "cell_type": "code",
   "execution_count": 2,
   "metadata": {},
   "outputs": [
    {
     "name": "stdout",
     "output_type": "stream",
     "text": [
      "[[ 0.44617255  1.02541799  0.15239653 ... -0.83934138 -0.56656537\n",
      "  -0.35692569]\n",
      " [-0.91638412  1.02541799  1.70631619 ...  0.27779821 -0.62409691\n",
      "  -0.35692569]\n",
      " [-1.73391812 -0.97521207  0.06569487 ... -0.83934138 -0.79669153\n",
      "  -0.35692569]\n",
      " ...\n",
      " [-0.23510579 -0.97521207  0.06569487 ...  2.51207739 -0.56656537\n",
      "  -0.35692569]\n",
      " [ 0.30991688  1.02541799  0.22197503 ... -0.83934138  1.50457012\n",
      "  -0.35692569]\n",
      " [-1.05263978  1.02541799  0.2799571  ... -0.83934138  0.29640775\n",
      "  -0.35692569]]\n"
     ]
    }
   ],
   "source": [
    "df = pd.read_csv('AWSTFstack.csv', sep=',', header=None)\n",
    "df = df.values\n",
    "\n",
    "pts_target = pd.read_csv('output.csv', sep=',', header=None)\n",
    "\n",
    "# Standardize the inputs\n",
    "scaled_inputs = preprocessing.scale(df)\n",
    "print(scaled_inputs)\n",
    "\n",
    "samples_count = scaled_inputs.shape[0]\n",
    "\n",
    "train_samples = int(0.8*samples_count)\n",
    "test_samples = int(samples_count - train_samples)\n",
    "\n",
    "train_inputs = scaled_inputs[:train_samples]\n",
    "train_targets = pts_target[:train_samples]\n",
    "\n",
    "test_inputs = scaled_inputs[train_samples:]\n",
    "test_targets = pts_target[train_samples:]"
   ]
  },
  {
   "cell_type": "code",
   "execution_count": 3,
   "metadata": {},
   "outputs": [
    {
     "name": "stdout",
     "output_type": "stream",
     "text": [
      "Training set: (1052, 26)\n",
      "Testing set:  (263, 26)\n"
     ]
    }
   ],
   "source": [
    "print(\"Training set: {}\".format(train_inputs.shape))  # 1052 examples, 26 features\n",
    "print(\"Testing set:  {}\".format(test_inputs.shape))   # 263 examples, 26 features"
   ]
  },
  {
   "cell_type": "code",
   "execution_count": 4,
   "metadata": {},
   "outputs": [
    {
     "name": "stdout",
     "output_type": "stream",
     "text": [
      "[ 0.44617255  1.02541799  0.15239653  0.72567649  0.16851094 -0.99388244\n",
      " -0.96181435  1.35053238  1.1994434   1.20806276 -0.91668956  1.28651695\n",
      " -1.54278637 -1.29353661 -1.36863193 -0.49936737 -0.82444962 -0.73028071\n",
      " -0.36205584  2.40557078  1.15606111 -0.00945257 -0.49550798 -0.83934138\n",
      " -0.56656537 -0.35692569]\n"
     ]
    }
   ],
   "source": [
    "print(train_inputs[0])"
   ]
  },
  {
   "cell_type": "code",
   "execution_count": 5,
   "metadata": {},
   "outputs": [
    {
     "name": "stdout",
     "output_type": "stream",
     "text": [
      "_________________________________________________________________\n",
      "Layer (type)                 Output Shape              Param #   \n",
      "=================================================================\n",
      "dense (Dense)                (None, 64)                1728      \n",
      "_________________________________________________________________\n",
      "dense_1 (Dense)              (None, 64)                4160      \n",
      "_________________________________________________________________\n",
      "dense_2 (Dense)              (None, 1)                 65        \n",
      "=================================================================\n",
      "Total params: 5,953\n",
      "Trainable params: 5,953\n",
      "Non-trainable params: 0\n",
      "_________________________________________________________________\n"
     ]
    }
   ],
   "source": [
    "def build_model():\n",
    "  model = keras.Sequential([\n",
    "    keras.layers.Dense(64, activation=tf.nn.relu, \n",
    "                       input_shape=(train_inputs.shape[1],)),\n",
    "    keras.layers.Dense(64, activation=tf.nn.relu),\n",
    "    keras.layers.Dense(1)\n",
    "  ])\n",
    "  #AdamOptimizer\n",
    "  optimizer = tf.train.AdamOptimizer(0.001)\n",
    "\n",
    "  model.compile(loss='mse',\n",
    "                optimizer=optimizer,\n",
    "                metrics=['mae'])\n",
    "  return model\n",
    "\n",
    "model = build_model()\n",
    "model.summary()"
   ]
  },
  {
   "cell_type": "code",
   "execution_count": 6,
   "metadata": {},
   "outputs": [
    {
     "name": "stdout",
     "output_type": "stream",
     "text": [
      "\n",
      ".................................................."
     ]
    }
   ],
   "source": [
    "# Display training progress by printing a single dot for each completed epoch.\n",
    "class PrintDot(keras.callbacks.Callback):\n",
    "  def on_epoch_end(self,epoch,logs):\n",
    "    if epoch % 100 == 0: print('')\n",
    "    print('.', end='')\n",
    "\n",
    "EPOCHS = 50\n",
    "\n",
    "# Store training stats\n",
    "history = model.fit(train_inputs, train_targets, epochs=EPOCHS,\n",
    "                    validation_split=0.2, verbose=0,\n",
    "                    callbacks=[PrintDot()])"
   ]
  },
  {
   "cell_type": "code",
   "execution_count": 7,
   "metadata": {},
   "outputs": [],
   "source": [
    "import matplotlib.pyplot as plt\n",
    "\n",
    "\n",
    "def plot_history(history):\n",
    "  plt.figure()\n",
    "  plt.xlabel('Epoch')\n",
    "  plt.ylabel('Mean Abs Error [1000$]')\n",
    "  plt.plot(history.epoch, np.array(history.history['mean_absolute_error']), \n",
    "           label='Train Loss')\n",
    "  plt.plot(history.epoch, np.array(history.history['val_mean_absolute_error']),\n",
    "           label = 'Val loss')\n",
    "  plt.legend()\n",
    "  plt.ylim([0,5])\n",
    "\n",
    "plot_history(history)"
   ]
  },
  {
   "cell_type": "code",
   "execution_count": 8,
   "metadata": {},
   "outputs": [
    {
     "name": "stdout",
     "output_type": "stream",
     "text": [
      "Testing set Mean Abs Error:    8.26\n"
     ]
    }
   ],
   "source": [
    "[loss, mae] = model.evaluate(test_inputs, test_targets, verbose=0)\n",
    "\n",
    "print(\"Testing set Mean Abs Error: {:7.2f}\".format(mae))"
   ]
  },
  {
   "cell_type": "code",
   "execution_count": 9,
   "metadata": {},
   "outputs": [
    {
     "name": "stdout",
     "output_type": "stream",
     "text": [
      "[20.15827   24.260895  23.67173   21.844273  14.118347  22.095123\n",
      " 18.958979  25.186401  16.7878    26.541386  23.38868   19.415363\n",
      " 27.497906  24.148867  19.80375   27.356066  19.071104  23.001526\n",
      " 16.669987  20.835     26.186905  27.340553  13.268856  22.910711\n",
      " 22.165558  19.797646  22.554722  18.710808  21.255306  13.30571\n",
      " 15.549063  18.185057  41.192066  21.970242  19.514557  20.26284\n",
      " 20.287094  23.948631  20.92553   25.831205  18.137955  24.260143\n",
      " 14.491581  17.793848  13.741529  18.675762  19.344332  17.993826\n",
      " 12.717567  18.07016   15.152541  36.6462    15.781563  25.120096\n",
      " 28.92471   27.219646  14.935747  21.8194    15.10667   20.101557\n",
      " 20.994658  16.914654  21.59999   16.765347  16.477922  25.122686\n",
      " 17.567057  18.882961  17.716215  22.034496  18.222015  31.872545\n",
      " 17.595673  29.685648  14.757143  26.704468  19.365484  23.458988\n",
      " 18.309715  12.9392605 21.59947   19.296947  12.844949  22.006031\n",
      " 15.057063  30.977955  15.72364   25.397755  25.133179  30.63302\n",
      " 23.435934  26.2149    17.582882  24.613375  24.460047  16.689793\n",
      " 21.224586  16.800735  12.189174  29.52501   21.238491  23.588148\n",
      " 23.406336  22.493998  26.41801   22.48243   21.146513  29.714869\n",
      " 22.41148   18.166973  18.836441  26.171114  19.476572  22.711386\n",
      " 11.211192  19.817533  20.539734  18.81356   19.514946  20.558346\n",
      " 25.566486  19.655066  29.586466  18.156021  21.521114  22.114626\n",
      " 19.594215  21.359669  14.846024  16.221813  11.341299  24.388685\n",
      " 18.673374  16.156075  21.937944  24.176914  26.999687  10.3383465\n",
      " 22.574812  17.768957  20.6277    37.220387  34.214756  18.224537\n",
      " 22.309359  21.91109   22.77963   18.111523  20.948132  19.899475\n",
      " 22.466438  25.409647  16.13552   16.718494  20.599277  27.349325\n",
      " 13.884005  28.114584  18.308094  18.737076  17.845234  17.64373\n",
      " 22.446548  15.915438  22.632284  23.614832  18.126492  23.841192\n",
      " 17.49876   21.505398  15.623477  20.290077  16.184458  15.27166\n",
      " 23.070051  19.600761  17.391323  13.281216  32.405296  28.456882\n",
      " 22.388603  27.578148  16.350183  28.301699  20.997726  24.820719\n",
      " 28.115263  16.761375  17.879532  14.513504  20.319471  25.480318\n",
      " 15.382746  22.139446  19.796389  19.240973  21.898193  16.105686\n",
      " 16.954224  18.949612  15.855961  22.941978  14.417454  18.273247\n",
      " 33.2571    25.544365  23.771376  23.461445  25.446825  29.041718\n",
      " 24.09703   16.734451  21.003826  21.286808  21.9642    25.736977\n",
      " 17.309763  19.736485  18.148094  18.80088   22.35548   20.600323\n",
      " 11.610325  19.264194  23.445335  15.833967  17.119349  18.442535\n",
      " 15.711987  16.442577  39.119217  18.047276  20.882689  19.768547\n",
      " 30.087982  22.402267  19.888788  18.340265  22.488571  19.639948\n",
      " 22.718422  19.03924   17.753967  18.825792  14.603478  21.848484\n",
      " 24.317524  10.3021345 15.891559  17.578524  17.039309  15.510729\n",
      " 20.104103  10.730227  39.863148   8.916857  31.73245   25.910133\n",
      " 19.9696    17.05007   16.955742  24.921902  21.749893 ]\n"
     ]
    }
   ],
   "source": [
    "test_predictions = model.predict(test_inputs).flatten()\n",
    "\n",
    "print(test_predictions)"
   ]
  },
  {
   "cell_type": "code",
   "execution_count": 10,
   "metadata": {},
   "outputs": [
    {
     "name": "stdout",
     "output_type": "stream",
     "text": [
      "       0\n",
      "1052   7\n",
      "1053  15\n",
      "1054   8\n",
      "1055   8\n",
      "1056  26\n",
      "1057  13\n",
      "1058   2\n",
      "1059  18\n",
      "1060  17\n",
      "1061  32\n",
      "1062  17\n",
      "1063  35\n",
      "1064  26\n",
      "1065  29\n",
      "1066   2\n",
      "1067  31\n",
      "1068  20\n",
      "1069  10\n",
      "1070  45\n",
      "1071  35\n",
      "1072  12\n",
      "1073  20\n",
      "1074  14\n",
      "1075  20\n",
      "1076  15\n",
      "1077  16\n",
      "1078   5\n",
      "1079  10\n",
      "1080   1\n",
      "1081  14\n",
      "...   ..\n",
      "1284  17\n",
      "1285  21\n",
      "1286  15\n",
      "1287  19\n",
      "1288  12\n",
      "1289  17\n",
      "1290  17\n",
      "1291  17\n",
      "1292   2\n",
      "1293  19\n",
      "1294  15\n",
      "1295  11\n",
      "1296  12\n",
      "1297   7\n",
      "1298   0\n",
      "1299  26\n",
      "1300  18\n",
      "1301  -1\n",
      "1302  13\n",
      "1303  28\n",
      "1304   9\n",
      "1305  16\n",
      "1306  12\n",
      "1307  14\n",
      "1308  33\n",
      "1309  19\n",
      "1310  32\n",
      "1311  17\n",
      "1312   7\n",
      "1313  23\n",
      "\n",
      "[262 rows x 1 columns]\n"
     ]
    }
   ],
   "source": [
    "print(test_targets[0:262])"
   ]
  },
  {
   "cell_type": "code",
   "execution_count": 16,
   "metadata": {},
   "outputs": [],
   "source": [
    "np.savetxt(\"predictions.csv\", test_predictions, delimiter=\",\")"
   ]
  },
  {
   "cell_type": "code",
   "execution_count": 13,
   "metadata": {},
   "outputs": [
    {
     "ename": "AttributeError",
     "evalue": "'numpy.ndarray' object has no attribute 'to_csv'",
     "output_type": "error",
     "traceback": [
      "\u001b[0;31m---------------------------------------------------------------------------\u001b[0m",
      "\u001b[0;31mAttributeError\u001b[0m                            Traceback (most recent call last)",
      "\u001b[0;32m<ipython-input-13-a64c3c2265fe>\u001b[0m in \u001b[0;36m<module>\u001b[0;34m()\u001b[0m\n\u001b[0;32m----> 1\u001b[0;31m \u001b[0mtest_predictions\u001b[0m\u001b[0;34m.\u001b[0m\u001b[0mto_csv\u001b[0m\u001b[0;34m(\u001b[0m\u001b[0;34m'predictions.csv'\u001b[0m\u001b[0;34m)\u001b[0m\u001b[0;34m\u001b[0m\u001b[0m\n\u001b[0m",
      "\u001b[0;31mAttributeError\u001b[0m: 'numpy.ndarray' object has no attribute 'to_csv'"
     ]
    }
   ],
   "source": []
  },
  {
   "cell_type": "code",
   "execution_count": null,
   "metadata": {},
   "outputs": [],
   "source": []
  }
 ],
 "metadata": {
  "kernelspec": {
   "display_name": "Python [conda env:tensorflow_p36]",
   "language": "python",
   "name": "conda-env-tensorflow_p36-py"
  },
  "language_info": {
   "codemirror_mode": {
    "name": "ipython",
    "version": 3
   },
   "file_extension": ".py",
   "mimetype": "text/x-python",
   "name": "python",
   "nbconvert_exporter": "python",
   "pygments_lexer": "ipython3",
   "version": "3.6.6"
  }
 },
 "nbformat": 4,
 "nbformat_minor": 2
}
