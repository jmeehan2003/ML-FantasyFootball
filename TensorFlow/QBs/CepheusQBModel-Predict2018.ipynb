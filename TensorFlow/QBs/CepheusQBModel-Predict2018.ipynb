{
 "cells": [
  {
   "cell_type": "code",
   "execution_count": 40,
   "metadata": {},
   "outputs": [],
   "source": [
    "# Author: James Meehan\n",
    "# Date: 8/15/2018\n",
    "# Description: Machine learning model to Predict Week 1 2018 fantasy scores for quarterbacks\n",
    "\n",
    "# import libraries\n",
    "import tensorflow as tf\n",
    "from tensorflow import keras\n",
    "\n",
    "import numpy as np\n",
    "import pandas as pd\n",
    "from sklearn import preprocessing"
   ]
  },
  {
   "cell_type": "code",
   "execution_count": 41,
   "metadata": {},
   "outputs": [
    {
     "data": {
      "text/plain": [
       "(1326, 26)"
      ]
     },
     "execution_count": 41,
     "metadata": {},
     "output_type": "execute_result"
    }
   ],
   "source": [
    "# pull in data, separate into data stack, labels, and actual scores\n",
    "df = pd.read_csv('QBstack2018.csv', sep=',')\n",
    "pts_targets = df\n",
    "labels = df\n",
    "labels = labels.loc[0:, 'fname':'actual']\n",
    "labels = labels.values\n",
    "\n",
    "df = df.loc[0:, 'rating':'rutd_2wk']\n",
    "pts_targets = pts_targets.loc[0:, 'actual']\n",
    "\n",
    "df = df.values\n",
    "\n",
    "df = df[:-1]\n",
    "pts_targets = pts_targets[:-1]\n",
    "labels = labels[:-1]\n",
    "df.shape\n"
   ]
  },
  {
   "cell_type": "code",
   "execution_count": 42,
   "metadata": {},
   "outputs": [
    {
     "name": "stdout",
     "output_type": "stream",
     "text": [
      "[[ 0.43938014  1.02288626  0.15011665 ... -0.84118752 -0.56755166\n",
      "  -0.3574535 ]\n",
      " [-0.91838744  1.02288626  1.70619967 ...  0.27955064 -0.6251515\n",
      "  -0.3574535 ]\n",
      " [-1.73304799 -0.9776258   0.06329428 ... -0.84118752 -0.797951\n",
      "  -0.3574535 ]\n",
      " ...\n",
      " [ 2.47603152  1.02288626  0.47526833 ...  0.27955064 -0.2795525\n",
      "  -0.3574535 ]\n",
      " [ 1.66137097 -0.9776258   0.33591761 ... -0.84118752 -0.797951\n",
      "  -0.3574535 ]\n",
      " [ 1.11826394  1.02288626  0.19656689 ...  0.27955064 -0.9707505\n",
      "  -0.3574535 ]]\n"
     ]
    },
    {
     "data": {
      "text/plain": [
       "(266,)"
      ]
     },
     "execution_count": 42,
     "metadata": {},
     "output_type": "execute_result"
    }
   ],
   "source": [
    "# normalize the inputs\n",
    "scaled_inputs = preprocessing.scale(df)\n",
    "print(scaled_inputs)\n",
    "\n",
    "samples_count = scaled_inputs.shape[0]\n",
    "\n",
    "# split into test and training groups\n",
    "train_samples = int(0.8*samples_count)\n",
    "test_samples = int(samples_count - train_samples)\n",
    "\n",
    "train_inputs = scaled_inputs[:train_samples]\n",
    "train_targets = pts_targets[:train_samples]\n",
    "\n",
    "test_inputs = scaled_inputs[train_samples:]\n",
    "test_targets = pts_targets[train_samples:]\n",
    "test_targets.shape"
   ]
  },
  {
   "cell_type": "code",
   "execution_count": 43,
   "metadata": {},
   "outputs": [
    {
     "name": "stdout",
     "output_type": "stream",
     "text": [
      "Training set: (1060, 26)\n",
      "Testing set:  (266, 26)\n"
     ]
    }
   ],
   "source": [
    "print(\"Training set: {}\".format(train_inputs.shape))  # 1060 examples, 26 features\n",
    "print(\"Testing set:  {}\".format(test_inputs.shape))   # 266 examples, 26 features"
   ]
  },
  {
   "cell_type": "code",
   "execution_count": 45,
   "metadata": {},
   "outputs": [
    {
     "name": "stdout",
     "output_type": "stream",
     "text": [
      "_________________________________________________________________\n",
      "Layer (type)                 Output Shape              Param #   \n",
      "=================================================================\n",
      "dense_4 (Dense)              (None, 40)                1080      \n",
      "_________________________________________________________________\n",
      "dense_5 (Dense)              (None, 1)                 41        \n",
      "=================================================================\n",
      "Total params: 1,121\n",
      "Trainable params: 1,121\n",
      "Non-trainable params: 0\n",
      "_________________________________________________________________\n"
     ]
    }
   ],
   "source": [
    "# build the neural network.  1 hidden layer and 40 neurons.\n",
    "def build_model():\n",
    "  model = keras.Sequential([\n",
    "    keras.layers.Dense(40, activation=tf.nn.relu, \n",
    "                       input_shape=(train_inputs.shape[1],)),\n",
    "    keras.layers.Dense(1)\n",
    "  ])\n",
    "  #AdamOptimizer\n",
    "  optimizer = tf.train.AdamOptimizer(0.001)\n",
    "\n",
    "  model.compile(loss='mse',\n",
    "                optimizer=optimizer,\n",
    "                metrics=['mae'])\n",
    "  return model\n",
    "\n",
    "model = build_model()\n",
    "model.summary()"
   ]
  },
  {
   "cell_type": "code",
   "execution_count": 46,
   "metadata": {},
   "outputs": [
    {
     "name": "stdout",
     "output_type": "stream",
     "text": [
      "\n",
      ".................................................."
     ]
    }
   ],
   "source": [
    "# Display training progress by printing a single dot for each completed epoch.\n",
    "class PrintDot(keras.callbacks.Callback):\n",
    "  def on_epoch_end(self,epoch,logs):\n",
    "    if epoch % 100 == 0: print('')\n",
    "    print('.', end='')\n",
    "\n",
    "EPOCHS = 50\n",
    "\n",
    "# Store training stats\n",
    "history = model.fit(train_inputs, train_targets, epochs=EPOCHS,\n",
    "                    validation_split=0.2, verbose=0,\n",
    "                    callbacks=[PrintDot()])"
   ]
  },
  {
   "cell_type": "code",
   "execution_count": 47,
   "metadata": {},
   "outputs": [
    {
     "data": {
      "image/png": "[encoded data removed]",
      "text/plain": [
       "<Figure size 432x288 with 1 Axes>"
      ]
     },
     "metadata": {},
     "output_type": "display_data"
    }
   ],
   "source": [
    "#Graph Training\n",
    "import matplotlib.pyplot as plt\n",
    "\n",
    "def plot_history(history):\n",
    "  plt.figure()\n",
    "  plt.xlabel('Epoch')\n",
    "  plt.ylabel('Mean Abs Error')\n",
    "  plt.plot(history.epoch, np.array(history.history['mean_absolute_error']), \n",
    "           label='Train Loss')\n",
    "  plt.plot(history.epoch, np.array(history.history['val_mean_absolute_error']),\n",
    "           label = 'Val loss')\n",
    "  plt.legend()\n",
    "  plt.ylim([0,10])\n",
    "\n",
    "plot_history(history)"
   ]
  },
  {
   "cell_type": "code",
   "execution_count": 75,
   "metadata": {},
   "outputs": [
    {
     "name": "stdout",
     "output_type": "stream",
     "text": [
      "Testing set Mean Abs Error:    7.60\n",
      "Testing set Mean Squared Error:   94.98\n"
     ]
    }
   ],
   "source": [
    "# calculate predictions\n",
    "[loss, mae] = model.evaluate(test_inputs[:-11], test_targets[:-11], verbose=0)\n",
    "\n",
    "print(\"Testing set Mean Abs Error: {:7.2f}\".format(mae))\n",
    "print(\"Testing set Mean Squared Error: {:7.2f}\".format(loss))"
   ]
  },
  {
   "cell_type": "code",
   "execution_count": 76,
   "metadata": {},
   "outputs": [],
   "source": [
    "# get predictions\n",
    "test_predictions = model.predict(test_inputs).flatten()\n"
   ]
  },
  {
   "cell_type": "code",
   "execution_count": 78,
   "metadata": {},
   "outputs": [
    {
     "data": {
      "image/png": "[encoded data removed]",
      "text/plain": [
       "<Figure size 432x288 with 1 Axes>"
      ]
     },
     "metadata": {},
     "output_type": "display_data"
    }
   ],
   "source": [
    "# graph predicted vs. actual scores\n",
    "def plot_predict():\n",
    "  plt.figure()\n",
    "  plt.title('Quarterbacks: Predicted vs. Actual Scores')\n",
    "  plt.xlabel('Most Recent 100 Predictions')\n",
    "  plt.ylabel('Score')\n",
    "  plt.plot(np.array(test_predictions[153:253]), label = \"Predicted Score\", color=\"red\")\n",
    "  plt.plot(np.array(test_targets[153:253]), label = \"Actual Score\", color=\"grey\")\n",
    "  plt.legend()\n",
    "  plt.ylim([0,50])\n",
    "\n",
    "plot_predict()"
   ]
  },
  {
   "cell_type": "code",
   "execution_count": 80,
   "metadata": {},
   "outputs": [
    {
     "name": "stdout",
     "output_type": "stream",
     "text": [
      "[['Tom', 'Brady', 1, 2018, 0, 18.51752], ['Aaron ', 'Rodgers', 1, 2018, 0, 18.309494], ['Cam ', 'Newton', 1, 2018, 0, 25.125414], ['Carson', 'Wentz', 1, 2018, 0, 17.025003], ['Russell ', 'Wilson', 1, 2018, 0, 21.944914], ['Alex', 'Smith', 1, 2018, 0, 13.390667], ['DeShaun', 'Watson', 1, 2018, 0, 10.981978], ['Matthew', 'Stafford', 1, 2018, 0, 24.195944], ['Kirk', 'Cousins', 1, 2018, 0, 23.909292], ['Ben ', 'Roethlisberger', 1, 2018, 0, 20.033718], ['Drew', 'Brees', 1, 2018, 0, 24.211864]]\n"
     ]
    }
   ],
   "source": [
    "# get Week 1 2018 predictions\n",
    "predict2018 = test_predictions[-11:]\n",
    "QBtest_labels = labels[-11:]\n",
    "\n",
    "fullList = []\n",
    "\n",
    "for i in range(0, len(predict2018)):\n",
    "    mylist = []\n",
    "    mylist.append(QBtest_labels[i][0])\n",
    "    mylist.append(QBtest_labels[i][1])\n",
    "    mylist.append(int(QBtest_labels[i][2]))\n",
    "    mylist.append(int(QBtest_labels[i][3]))\n",
    "    mylist.append(0)\n",
    "    mylist.append(predict2018[i])\n",
    "    fullList.append(mylist)\n",
    "print (fullList)"
   ]
  },
  {
   "cell_type": "code",
   "execution_count": 87,
   "metadata": {},
   "outputs": [],
   "source": [
    "# put predictions into csv for easy placement into database\n",
    "import csv\n",
    "from pandas import read_csv \n",
    "\n",
    "with open(\"QB2018Output.csv\",\"w\",newline=\"\") as newFile: \n",
    "    cw = csv.writer(newFile, delimiter=',')\n",
    "    for i in fullList:\n",
    "        cw.writerow(i)\n",
    "        \n",
    "QBformat = read_csv('QB2018Output.csv', sep=',', names=['fname', 'lname', 'week', 'yr', 'actual', 'predicted'])\n",
    "QBformat.to_csv('QB2018Output.csv', index=False)"
   ]
  },
  {
   "cell_type": "code",
   "execution_count": 88,
   "metadata": {},
   "outputs": [
    {
     "name": "stderr",
     "output_type": "stream",
     "text": [
      "/home/ubuntu/anaconda3/envs/tensorflow_p36/lib/python3.6/site-packages/psycopg2/__init__.py:144: UserWarning: The psycopg2 wheel package will be renamed from release 2.8; in order to keep installing from binary please use \"pip install psycopg2-binary\" instead. For details see: <http://initd.org/psycopg/docs/install.html#binary-install-from-pypi>.\n",
      "  \"\"\")\n"
     ]
    }
   ],
   "source": [
    "# set up database connection\n",
    "import psycopg2\n",
    "conn = psycopg2.connect(database=\"Cepheus_db\",\n",
    "                        user=\"db_usr\",\n",
    "                        password=\"B3av3rs1!\",\n",
    "                        host=\"osucepheus.cgwruhobay1w.us-east-2.rds.amazonaws.com\",\n",
    "                        port=\"5432\")"
   ]
  },
  {
   "cell_type": "code",
   "execution_count": 89,
   "metadata": {},
   "outputs": [
    {
     "name": "stdout",
     "output_type": "stream",
     "text": [
      "INSERT INTO qb_results(fname, lname, week, yr, actual, predicted) VALUES ('Tom', 'Brady', '1', '2018', '0', '18.51752')\n",
      "INSERT INTO qb_results(fname, lname, week, yr, actual, predicted) VALUES ('Aaron ', 'Rodgers', '1', '2018', '0', '18.309494')\n",
      "INSERT INTO qb_results(fname, lname, week, yr, actual, predicted) VALUES ('Cam ', 'Newton', '1', '2018', '0', '25.125414000000003')\n",
      "INSERT INTO qb_results(fname, lname, week, yr, actual, predicted) VALUES ('Carson', 'Wentz', '1', '2018', '0', '17.025002999999998')\n",
      "INSERT INTO qb_results(fname, lname, week, yr, actual, predicted) VALUES ('Russell ', 'Wilson', '1', '2018', '0', '21.944914')\n",
      "INSERT INTO qb_results(fname, lname, week, yr, actual, predicted) VALUES ('Alex', 'Smith', '1', '2018', '0', '13.390667')\n",
      "INSERT INTO qb_results(fname, lname, week, yr, actual, predicted) VALUES ('DeShaun', 'Watson', '1', '2018', '0', '10.981978')\n",
      "INSERT INTO qb_results(fname, lname, week, yr, actual, predicted) VALUES ('Matthew', 'Stafford', '1', '2018', '0', '24.195944')\n",
      "INSERT INTO qb_results(fname, lname, week, yr, actual, predicted) VALUES ('Kirk', 'Cousins', '1', '2018', '0', '23.909292')\n",
      "INSERT INTO qb_results(fname, lname, week, yr, actual, predicted) VALUES ('Ben ', 'Roethlisberger', '1', '2018', '0', '20.033718')\n",
      "INSERT INTO qb_results(fname, lname, week, yr, actual, predicted) VALUES ('Drew', 'Brees', '1', '2018', '0', '24.211864000000002')\n"
     ]
    }
   ],
   "source": [
    "# put training predict data into database\n",
    "#Create cursor with which to execute queries\n",
    "cur = conn.cursor()\n",
    "\n",
    "#parse csv\n",
    "with open ('QB2018Output.csv') as csvfile:\n",
    "    reader = csv.DictReader(csvfile, delimiter=',')\n",
    "    for row in reader:\n",
    "        #build query string\n",
    "        query1 = 'INSERT INTO qb_results(fname, lname, week, yr, actual, predicted) VALUES '\n",
    "        query2 =row['fname'], row['lname'], row['week'], row['yr'], row['actual'], row['predicted']\n",
    "        query = str(query1) + str(query2)\n",
    "        print(query)\n",
    "        #execute query\n",
    "        cur.execute(query)\n",
    "#commit change\n",
    "conn.commit()"
   ]
  },
  {
   "cell_type": "code",
   "execution_count": null,
   "metadata": {},
   "outputs": [],
   "source": []
  }
 ],
 "metadata": {
  "kernelspec": {
   "display_name": "Python [conda env:tensorflow_p36]",
   "language": "python",
   "name": "conda-env-tensorflow_p36-py"
  },
  "language_info": {
   "codemirror_mode": {
    "name": "ipython",
    "version": 3
   },
   "file_extension": ".py",
   "mimetype": "text/x-python",
   "name": "python",
   "nbconvert_exporter": "python",
   "pygments_lexer": "ipython3",
   "version": "3.6.6"
  }
 },
 "nbformat": 4,
 "nbformat_minor": 2
}
