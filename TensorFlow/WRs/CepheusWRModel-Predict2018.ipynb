{
 "cells": [
  {
   "cell_type": "code",
   "execution_count": 2,
   "metadata": {},
   "outputs": [
    {
     "name": "stderr",
     "output_type": "stream",
     "text": [
      "/home/ubuntu/anaconda3/envs/tensorflow_p36/lib/python3.6/site-packages/h5py/__init__.py:36: FutureWarning: Conversion of the second argument of issubdtype from `float` to `np.floating` is deprecated. In future, it will be treated as `np.float64 == np.dtype(float).type`.\n",
      "  from ._conv import register_converters as _register_converters\n"
     ]
    }
   ],
   "source": [
    "# Author: James Meehan\n",
    "# Date: 8/15/2018\n",
    "# Description: Machine learning model to Predict Week 1 2018 fantasy scores for wide receivers\n",
    "import tensorflow as tf\n",
    "from tensorflow import keras\n",
    "\n",
    "import numpy as np\n",
    "import pandas as pd\n",
    "from sklearn import preprocessing"
   ]
  },
  {
   "cell_type": "code",
   "execution_count": 4,
   "metadata": {},
   "outputs": [
    {
     "name": "stdout",
     "output_type": "stream",
     "text": [
      "[[ 13.           1.         108.51866491 ...   1.           0.\n",
      "    0.        ]\n",
      " [ 13.           1.         108.51866491 ...   4.         110.\n",
      "    2.        ]\n",
      " [ 15.           0.         187.         ...   5.          71.\n",
      "    0.        ]\n",
      " ...\n",
      " [ 16.           1.         143.         ...   6.          90.\n",
      "    0.25      ]\n",
      " [ 28.           1.         113.         ...   6.         100.\n",
      "    0.        ]\n",
      " [ 15.           1.         146.         ...   9.         119.\n",
      "    1.        ]]\n"
     ]
    },
    {
     "data": {
      "text/plain": [
       "(3108, 25)"
      ]
     },
     "execution_count": 4,
     "metadata": {},
     "output_type": "execute_result"
    }
   ],
   "source": [
    "# pull in data, separate into data stack, labels, and actual scores\n",
    "df = pd.read_csv('WRstack2018.csv', sep=',', )\n",
    "pts_targets = df\n",
    "labels = df\n",
    "\n",
    "labels = labels.loc[0:, 'fname':'actual']\n",
    "labels = labels.values\n",
    "\n",
    "df = df.loc[0:, 'rating':'retd_2wk']\n",
    "pts_targets = pts_targets.loc[0:, 'actual']\n",
    "\n",
    "df = df.values\n",
    "df.shape"
   ]
  },
  {
   "cell_type": "code",
   "execution_count": 5,
   "metadata": {},
   "outputs": [
    {
     "name": "stdout",
     "output_type": "stream",
     "text": [
      "[[-9.62276409e-02  1.02608000e+00 -2.89187389e-03 ... -1.27904839e+00\n",
      "  -1.39794126e+00 -5.80989485e-01]\n",
      " [-9.62276409e-02  1.02608000e+00 -2.89187389e-03 ... -6.36320759e-02\n",
      "   1.42938355e+00  2.89880069e+00]\n",
      " [ 1.76900677e-01 -9.74582882e-01  1.76139600e+00 ...  3.41506697e-01\n",
      "   4.26968388e-01 -5.80989485e-01]\n",
      " ...\n",
      " [ 3.13464836e-01  1.02608000e+00  7.72260605e-01 ...  7.46645469e-01\n",
      "   9.15324490e-01 -1.46015713e-01]\n",
      " [ 1.95223474e+00  1.02608000e+00  9.78501071e-02 ...  7.46645469e-01\n",
      "   1.17235402e+00 -5.80989485e-01]\n",
      " [ 1.76900677e-01  1.02608000e+00  8.39701655e-01 ...  1.96206179e+00\n",
      "   1.66071012e+00  1.15890560e+00]]\n",
      "3108\n"
     ]
    }
   ],
   "source": [
    "# normalize the inputs\n",
    "scaled_inputs = preprocessing.scale(df)\n",
    "print(scaled_inputs)\n",
    "\n",
    "samples_count = scaled_inputs.shape[0]\n",
    "print (samples_count)\n",
    "train_samples = int(0.8*samples_count)\n",
    "test_samples = int(samples_count - train_samples)\n",
    "\n",
    "train_inputs = scaled_inputs[:train_samples]\n",
    "train_targets = pts_targets[:train_samples]\n",
    "\n",
    "test_inputs = scaled_inputs[train_samples:]\n",
    "test_targets = pts_targets[train_samples:]"
   ]
  },
  {
   "cell_type": "code",
   "execution_count": 6,
   "metadata": {},
   "outputs": [
    {
     "name": "stdout",
     "output_type": "stream",
     "text": [
      "Training set: (2486, 25)\n",
      "Testing set:  (622, 25)\n"
     ]
    }
   ],
   "source": [
    "print(\"Training set: {}\".format(train_inputs.shape))  # 2486 examples, 25 features\n",
    "print(\"Testing set:  {}\".format(test_inputs.shape))   # 622 examples, 25 features"
   ]
  },
  {
   "cell_type": "code",
   "execution_count": 7,
   "metadata": {},
   "outputs": [
    {
     "name": "stdout",
     "output_type": "stream",
     "text": [
      "_________________________________________________________________\n",
      "Layer (type)                 Output Shape              Param #   \n",
      "=================================================================\n",
      "dense (Dense)                (None, 50)                1300      \n",
      "_________________________________________________________________\n",
      "dense_1 (Dense)              (None, 50)                2550      \n",
      "_________________________________________________________________\n",
      "dense_2 (Dense)              (None, 1)                 51        \n",
      "=================================================================\n",
      "Total params: 3,901\n",
      "Trainable params: 3,901\n",
      "Non-trainable params: 0\n",
      "_________________________________________________________________\n"
     ]
    }
   ],
   "source": [
    "# build the neural network. 2 hidden layers with 50 neurons per layer\n",
    "def build_model():\n",
    "  model = keras.Sequential([\n",
    "    keras.layers.Dense(50, activation=tf.nn.relu, \n",
    "                       input_shape=(train_inputs.shape[1],)),\n",
    "   keras.layers.Dense(50, activation=tf.nn.relu),\n",
    "    keras.layers.Dense(1)\n",
    "  ])\n",
    "  #AdamOptimizer\n",
    "  optimizer = tf.train.AdamOptimizer(0.001)\n",
    "\n",
    "  model.compile(loss='mse',\n",
    "                optimizer=optimizer,\n",
    "                metrics=['mae'])\n",
    "  return model\n",
    "\n",
    "model = build_model()\n",
    "model.summary()"
   ]
  },
  {
   "cell_type": "code",
   "execution_count": 8,
   "metadata": {},
   "outputs": [
    {
     "name": "stdout",
     "output_type": "stream",
     "text": [
      "\n",
      ".................................................."
     ]
    }
   ],
   "source": [
    "# Display training progress by printing a single dot for each completed epoch.\n",
    "class PrintDot(keras.callbacks.Callback):\n",
    "  def on_epoch_end(self,epoch,logs):\n",
    "    if epoch % 100 == 0: print('')\n",
    "    print('.', end='')\n",
    "\n",
    "EPOCHS = 50\n",
    "\n",
    "# Store training stats\n",
    "history = model.fit(train_inputs, train_targets, epochs=EPOCHS,\n",
    "                    validation_split=0.2, verbose=0,\n",
    "                    callbacks=[PrintDot()])"
   ]
  },
  {
   "cell_type": "code",
   "execution_count": 10,
   "metadata": {},
   "outputs": [
    {
     "data": {
      "image/png": "[encoded data removed]",
      "text/plain": [
       "<Figure size 432x288 with 1 Axes>"
      ]
     },
     "metadata": {},
     "output_type": "display_data"
    }
   ],
   "source": [
    "# graph training\n",
    "import matplotlib.pyplot as plt\n",
    "\n",
    "def plot_history(history):\n",
    "  plt.figure()\n",
    "  plt.xlabel('Epoch')\n",
    "  plt.ylabel('Mean Abs Error')\n",
    "  plt.plot(history.epoch, np.array(history.history['mean_absolute_error']), \n",
    "           label='Train Loss')\n",
    "  plt.plot(history.epoch, np.array(history.history['val_mean_absolute_error']),\n",
    "           label = 'Val loss')\n",
    "  plt.legend()\n",
    "  plt.ylim([0,5])\n",
    "\n",
    "plot_history(history)"
   ]
  },
  {
   "cell_type": "code",
   "execution_count": 11,
   "metadata": {},
   "outputs": [
    {
     "name": "stdout",
     "output_type": "stream",
     "text": [
      "Testing set Mean Abs Error:    4.31\n",
      "Testing set Mean Squared Error:   31.45\n"
     ]
    }
   ],
   "source": [
    "# calculate performance\n",
    "[loss, mae] = model.evaluate(test_inputs[:-10], test_targets[:-10], verbose=0)\n",
    "\n",
    "print(\"Testing set Mean Abs Error: {:7.2f}\".format(mae))\n",
    "print(\"Testing set Mean Squared Error: {:7.2f}\".format(loss))"
   ]
  },
  {
   "cell_type": "code",
   "execution_count": 12,
   "metadata": {},
   "outputs": [],
   "source": [
    "# get predictions\n",
    "test_predictions = model.predict(test_inputs).flatten()"
   ]
  },
  {
   "cell_type": "code",
   "execution_count": 2,
   "metadata": {},
   "outputs": [
    {
     "ename": "NameError",
     "evalue": "name 'plt' is not defined",
     "output_type": "error",
     "traceback": [
      "\u001b[0;31m---------------------------------------------------------------------------\u001b[0m",
      "\u001b[0;31mNameError\u001b[0m                                 Traceback (most recent call last)",
      "\u001b[0;32m<ipython-input-2-f0692eeee549>\u001b[0m in \u001b[0;36m<module>\u001b[0;34m()\u001b[0m\n\u001b[1;32m      9\u001b[0m   \u001b[0mplt\u001b[0m\u001b[0;34m.\u001b[0m\u001b[0mylim\u001b[0m\u001b[0;34m(\u001b[0m\u001b[0;34m[\u001b[0m\u001b[0;36m0\u001b[0m\u001b[0;34m,\u001b[0m\u001b[0;36m50\u001b[0m\u001b[0;34m]\u001b[0m\u001b[0;34m)\u001b[0m\u001b[0;34m\u001b[0m\u001b[0m\n\u001b[1;32m     10\u001b[0m \u001b[0;34m\u001b[0m\u001b[0m\n\u001b[0;32m---> 11\u001b[0;31m \u001b[0mplot_predict\u001b[0m\u001b[0;34m(\u001b[0m\u001b[0;34m)\u001b[0m\u001b[0;34m\u001b[0m\u001b[0m\n\u001b[0m",
      "\u001b[0;32m<ipython-input-2-f0692eeee549>\u001b[0m in \u001b[0;36mplot_predict\u001b[0;34m()\u001b[0m\n\u001b[1;32m      1\u001b[0m \u001b[0;32mdef\u001b[0m \u001b[0mplot_predict\u001b[0m\u001b[0;34m(\u001b[0m\u001b[0;34m)\u001b[0m\u001b[0;34m:\u001b[0m\u001b[0;34m\u001b[0m\u001b[0m\n\u001b[0;32m----> 2\u001b[0;31m   \u001b[0mplt\u001b[0m\u001b[0;34m.\u001b[0m\u001b[0mfigure\u001b[0m\u001b[0;34m(\u001b[0m\u001b[0;34m)\u001b[0m\u001b[0;34m\u001b[0m\u001b[0m\n\u001b[0m\u001b[1;32m      3\u001b[0m   \u001b[0mplt\u001b[0m\u001b[0;34m.\u001b[0m\u001b[0mtitle\u001b[0m\u001b[0;34m(\u001b[0m\u001b[0;34m'Wide Receivers: Predicted vs. Actual Scores'\u001b[0m\u001b[0;34m)\u001b[0m\u001b[0;34m\u001b[0m\u001b[0m\n\u001b[1;32m      4\u001b[0m   \u001b[0mplt\u001b[0m\u001b[0;34m.\u001b[0m\u001b[0mxlabel\u001b[0m\u001b[0;34m(\u001b[0m\u001b[0;34m'Most Recent 100 Predictions'\u001b[0m\u001b[0;34m)\u001b[0m\u001b[0;34m\u001b[0m\u001b[0m\n\u001b[1;32m      5\u001b[0m   \u001b[0mplt\u001b[0m\u001b[0;34m.\u001b[0m\u001b[0mylabel\u001b[0m\u001b[0;34m(\u001b[0m\u001b[0;34m'Score'\u001b[0m\u001b[0;34m)\u001b[0m\u001b[0;34m\u001b[0m\u001b[0m\n",
      "\u001b[0;31mNameError\u001b[0m: name 'plt' is not defined"
     ]
    }
   ],
   "source": [
    "# graph predicted vs. actual scores\n",
    "def plot_predict():\n",
    "  plt.figure()\n",
    "  plt.title('Wide Receivers: Predicted vs. Actual Scores')\n",
    "  plt.xlabel('Most Recent 100 Predictions')\n",
    "  plt.ylabel('Score')\n",
    "  plt.plot(np.array(test_predictions[410:510]), label = \"Predicted Score\", color=\"red\")\n",
    "  plt.plot(np.array(test_targets[410:510]), label = \"Actual Score\", color=\"grey\")\n",
    "  plt.legend()\n",
    "  plt.ylim([0,50])\n",
    "\n",
    "plot_predict()"
   ]
  },
  {
   "cell_type": "code",
   "execution_count": 14,
   "metadata": {},
   "outputs": [
    {
     "name": "stdout",
     "output_type": "stream",
     "text": [
      "[['Antonio', 'Brown', 1, 2018, 0, 9.077738], ['Julio', 'Jones', 1, 2018, 0, 11.68203], ['DeAndre', 'Hopkins', 1, 2018, 0, 11.650972], ['Keenan', 'Allen', 1, 2018, 0, 9.917954], ['Michael', 'Thomas', 1, 2018, 0, 6.578481], ['Odell', 'Beckham', 1, 2018, 0, 9.556333], ['AJ', 'Green', 1, 2018, 0, 7.4033318], ['Davante', 'Adams', 1, 2018, 0, 9.418545], ['TY', 'Hilton', 1, 2018, 0, 11.333418], ['Larry', 'Fitzgerald', 1, 2018, 0, 8.032779]]\n"
     ]
    }
   ],
   "source": [
    "# get 2018 predictions\n",
    "predict2018 = test_predictions[-10:]\n",
    "WRtest_labels = labels[-10:]\n",
    "\n",
    "fullList = []\n",
    "\n",
    "for i in range(0, len(predict2018)):\n",
    "    mylist = []\n",
    "    mylist.append(WRtest_labels[i][0])\n",
    "    mylist.append(WRtest_labels[i][1])\n",
    "    mylist.append(int(WRtest_labels[i][2]))\n",
    "    mylist.append(int(WRtest_labels[i][3]))\n",
    "    mylist.append(0)\n",
    "    mylist.append(predict2018[i])\n",
    "    fullList.append(mylist)\n",
    "print (fullList)"
   ]
  },
  {
   "cell_type": "code",
   "execution_count": 15,
   "metadata": {},
   "outputs": [],
   "source": [
    "# put predictions in a csv for easy placement into the database\n",
    "import csv\n",
    "from pandas import read_csv \n",
    "\n",
    "with open(\"WR2018Output.csv\",\"w\",newline=\"\") as newFile: \n",
    "    cw = csv.writer(newFile, delimiter=',')\n",
    "    for i in fullList:\n",
    "        cw.writerow(i)\n",
    "        \n",
    "WRformat = read_csv('WR2018Output.csv', sep=',', names=['fname', 'lname', 'week', 'yr', 'actual', 'predicted'])       \n",
    "WRformat.to_csv('WR2018Output.csv', index=False)"
   ]
  },
  {
   "cell_type": "code",
   "execution_count": 1,
   "metadata": {},
   "outputs": [
    {
     "name": "stderr",
     "output_type": "stream",
     "text": [
      "/home/ubuntu/anaconda3/envs/tensorflow_p36/lib/python3.6/site-packages/psycopg2/__init__.py:144: UserWarning: The psycopg2 wheel package will be renamed from release 2.8; in order to keep installing from binary please use \"pip install psycopg2-binary\" instead. For details see: <http://initd.org/psycopg/docs/install.html#binary-install-from-pypi>.\n",
      "  \"\"\")\n"
     ]
    }
   ],
   "source": [
    "# setup up database connection\n",
    "import psycopg2\n",
    "conn = psycopg2.connect(database=\"Cepheus_db\",\n",
    "                        user=\"db_usr\",\n",
    "                        password=\"B3av3rs1!\",\n",
    "                        host=\"osucepheus.cgwruhobay1w.us-east-2.rds.amazonaws.com\",\n",
    "                        port=\"5432\")"
   ]
  },
  {
   "cell_type": "code",
   "execution_count": 17,
   "metadata": {},
   "outputs": [],
   "source": [
    "#Create cursor with which to execute queries\n",
    "cur = conn.cursor()"
   ]
  },
  {
   "cell_type": "code",
   "execution_count": 18,
   "metadata": {},
   "outputs": [
    {
     "name": "stdout",
     "output_type": "stream",
     "text": [
      "INSERT INTO wr_results(fname, lname, week, yr, actual, predicted) VALUES ('Antonio', 'Brown', '1', '2018', '0', '9.077738')\n",
      "INSERT INTO wr_results(fname, lname, week, yr, actual, predicted) VALUES ('Julio', 'Jones', '1', '2018', '0', '11.682030000000001')\n",
      "INSERT INTO wr_results(fname, lname, week, yr, actual, predicted) VALUES ('DeAndre', 'Hopkins', '1', '2018', '0', '11.650972')\n",
      "INSERT INTO wr_results(fname, lname, week, yr, actual, predicted) VALUES ('Keenan', 'Allen', '1', '2018', '0', '9.917954')\n",
      "INSERT INTO wr_results(fname, lname, week, yr, actual, predicted) VALUES ('Michael', 'Thomas', '1', '2018', '0', '6.578481')\n",
      "INSERT INTO wr_results(fname, lname, week, yr, actual, predicted) VALUES ('Odell', 'Beckham', '1', '2018', '0', '9.556333')\n",
      "INSERT INTO wr_results(fname, lname, week, yr, actual, predicted) VALUES ('AJ', 'Green', '1', '2018', '0', '7.4033318')\n",
      "INSERT INTO wr_results(fname, lname, week, yr, actual, predicted) VALUES ('Davante', 'Adams', '1', '2018', '0', '9.418545')\n",
      "INSERT INTO wr_results(fname, lname, week, yr, actual, predicted) VALUES ('TY', 'Hilton', '1', '2018', '0', '11.333418')\n",
      "INSERT INTO wr_results(fname, lname, week, yr, actual, predicted) VALUES ('Larry', 'Fitzgerald', '1', '2018', '0', '8.032779')\n"
     ]
    }
   ],
   "source": [
    "#parse csv\n",
    "with open ('WR2018Output.csv') as csvfile:\n",
    "    reader = csv.DictReader(csvfile, delimiter=',')\n",
    "    for row in reader:\n",
    "        #build query string\n",
    "        query1 = 'INSERT INTO wr_results(fname, lname, week, yr, actual, predicted) VALUES '\n",
    "        query2 =row['fname'], row['lname'], row['week'], row['yr'], row['actual'], row['predicted']\n",
    "        query = str(query1) + str(query2)\n",
    "        print(query)\n",
    "        #execute query\n",
    "        cur.execute(query)\n",
    "#commit change\n",
    "conn.commit()"
   ]
  },
  {
   "cell_type": "code",
   "execution_count": null,
   "metadata": {},
   "outputs": [],
   "source": []
  }
 ],
 "metadata": {
  "kernelspec": {
   "display_name": "Python [conda env:tensorflow_p36]",
   "language": "python",
   "name": "conda-env-tensorflow_p36-py"
  },
  "language_info": {
   "codemirror_mode": {
    "name": "ipython",
    "version": 3
   },
   "file_extension": ".py",
   "mimetype": "text/x-python",
   "name": "python",
   "nbconvert_exporter": "python",
   "pygments_lexer": "ipython3",
   "version": "3.6.6"
  }
 },
 "nbformat": 4,
 "nbformat_minor": 2
}
