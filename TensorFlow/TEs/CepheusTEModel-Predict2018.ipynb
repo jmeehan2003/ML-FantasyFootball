{
 "cells": [
  {
   "cell_type": "code",
   "execution_count": 1,
   "metadata": {},
   "outputs": [
    {
     "name": "stderr",
     "output_type": "stream",
     "text": [
      "/home/ubuntu/anaconda3/envs/tensorflow_p36/lib/python3.6/site-packages/h5py/__init__.py:36: FutureWarning: Conversion of the second argument of issubdtype from `float` to `np.floating` is deprecated. In future, it will be treated as `np.float64 == np.dtype(float).type`.\n",
      "  from ._conv import register_converters as _register_converters\n"
     ]
    }
   ],
   "source": [
    "# Author: James Meehan\n",
    "# Date: 8/15/2018\n",
    "# Description: Machine learning model to predict Week 1 2018 fantasy scores for tight ends \n",
    "\n",
    "# import libraries\n",
    "import tensorflow as tf\n",
    "from tensorflow import keras\n",
    "\n",
    "import numpy as np\n",
    "import pandas as pd\n",
    "from sklearn import preprocessing"
   ]
  },
  {
   "cell_type": "code",
   "execution_count": 4,
   "metadata": {},
   "outputs": [
    {
     "data": {
      "text/plain": [
       "(1180, 18)"
      ]
     },
     "execution_count": 4,
     "metadata": {},
     "output_type": "execute_result"
    }
   ],
   "source": [
    "# pull in data, separate into data stack, labels, and actual scores\n",
    "df = pd.read_csv('TEstack2018.csv', sep=',', )\n",
    "pts_targets = df\n",
    "labels = df\n",
    "\n",
    "labels = labels.loc[0:, 'fname':'actual']\n",
    "labels = labels.values\n",
    "\n",
    "df = df.loc[0:, 'rating':'retd_2wk']\n",
    "pts_targets = pts_targets.loc[0:, 'actual']\n",
    "\n",
    "df = df.values\n",
    "df.shape"
   ]
  },
  {
   "cell_type": "code",
   "execution_count": 5,
   "metadata": {},
   "outputs": [
    {
     "name": "stdout",
     "output_type": "stream",
     "text": [
      "[[-1.10155719 -1.01365251 -1.13835997 ... -0.23591734 -0.45800854\n",
      "  -0.54693676]\n",
      " [-0.41271909 -1.01365251 -1.25445095 ... -0.23591734 -0.35759047\n",
      "   1.33465327]\n",
      " [-1.23932481 -1.01365251 -0.18060943 ...  1.15483602  0.04408183\n",
      "  -0.54693676]\n",
      " ...\n",
      " [ 0.276119    0.98653137  0.89323208 ... -1.16308625 -1.22788045\n",
      "   1.33465327]\n",
      " [ 1.92933042  0.98653137  0.22570898 ...  0.69125156  0.04408183\n",
      "  -0.54693676]\n",
      " [ 2.48040089  0.98653137  0.48691367 ... -1.16308625 -1.12746238\n",
      "  -0.54693676]]\n"
     ]
    }
   ],
   "source": [
    "# normalize the inputs\n",
    "scaled_inputs = preprocessing.scale(df)\n",
    "print(scaled_inputs)\n",
    "\n",
    "samples_count = scaled_inputs.shape[0]\n",
    "\n",
    "# split into training and test groups (80% training / 20% test)\n",
    "train_samples = int(0.8*samples_count)\n",
    "test_samples = int(samples_count - train_samples)\n",
    "\n",
    "train_inputs = scaled_inputs[:train_samples]\n",
    "train_targets = pts_targets[:train_samples]\n",
    "\n",
    "test_inputs = scaled_inputs[train_samples:]\n",
    "test_targets = pts_targets[train_samples:]"
   ]
  },
  {
   "cell_type": "code",
   "execution_count": 6,
   "metadata": {},
   "outputs": [
    {
     "name": "stdout",
     "output_type": "stream",
     "text": [
      "Training set: (944, 18)\n",
      "Testing set:  (236, 18)\n"
     ]
    }
   ],
   "source": [
    "print(\"Training set: {}\".format(train_inputs.shape))  # 944 examples, 18 features\n",
    "print(\"Testing set:  {}\".format(test_inputs.shape))   # 236 examples, 18 features"
   ]
  },
  {
   "cell_type": "code",
   "execution_count": 7,
   "metadata": {},
   "outputs": [
    {
     "name": "stdout",
     "output_type": "stream",
     "text": [
      "_________________________________________________________________\n",
      "Layer (type)                 Output Shape              Param #   \n",
      "=================================================================\n",
      "dense (Dense)                (None, 35)                665       \n",
      "_________________________________________________________________\n",
      "dense_1 (Dense)              (None, 1)                 36        \n",
      "=================================================================\n",
      "Total params: 701\n",
      "Trainable params: 701\n",
      "Non-trainable params: 0\n",
      "_________________________________________________________________\n"
     ]
    }
   ],
   "source": [
    "# build the neural network. 1 hiddne layer with 35 neurons.\n",
    "def build_model():\n",
    "  model = keras.Sequential([\n",
    "    keras.layers.Dense(35, activation=tf.nn.relu, \n",
    "                       input_shape=(train_inputs.shape[1],)),\n",
    "   #keras.layers.Dense(40, activation=tf.nn.relu),\n",
    "    keras.layers.Dense(1)\n",
    "  ])\n",
    "  #AdamOptimizer\n",
    "  optimizer = tf.train.AdamOptimizer(0.001)\n",
    "\n",
    "  model.compile(loss='mse',\n",
    "                optimizer=optimizer,\n",
    "                metrics=['mae'])\n",
    "  return model\n",
    "\n",
    "model = build_model()\n",
    "model.summary()"
   ]
  },
  {
   "cell_type": "code",
   "execution_count": 8,
   "metadata": {},
   "outputs": [
    {
     "name": "stdout",
     "output_type": "stream",
     "text": [
      "\n",
      "...................................................................................................."
     ]
    }
   ],
   "source": [
    "# Display training progress by printing a single dot for each completed epoch.\n",
    "class PrintDot(keras.callbacks.Callback):\n",
    "  def on_epoch_end(self,epoch,logs):\n",
    "    if epoch % 100 == 0: print('')\n",
    "    print('.', end='')\n",
    "\n",
    "EPOCHS = 100\n",
    "\n",
    "# Store training stats\n",
    "history = model.fit(train_inputs, train_targets, epochs=EPOCHS,\n",
    "                    validation_split=0.2, verbose=0,\n",
    "                    callbacks=[PrintDot()])"
   ]
  },
  {
   "cell_type": "code",
   "execution_count": 10,
   "metadata": {},
   "outputs": [
    {
     "data": {
      "image/png": "[encoded data removed]",
      "text/plain": [
       "<Figure size 432x288 with 1 Axes>"
      ]
     },
     "metadata": {},
     "output_type": "display_data"
    }
   ],
   "source": [
    "# graph training\n",
    "import matplotlib.pyplot as plt\n",
    "\n",
    "def plot_history(history):\n",
    "  plt.figure()\n",
    "  plt.xlabel('Epoch')\n",
    "  plt.ylabel('Mean Abs Error')\n",
    "  plt.plot(history.epoch, np.array(history.history['mean_absolute_error']), \n",
    "           label='Train Loss')\n",
    "  plt.plot(history.epoch, np.array(history.history['val_mean_absolute_error']),\n",
    "           label = 'Val loss')\n",
    "  plt.legend()\n",
    "  plt.ylim([0,5])\n",
    "\n",
    "plot_history(history)"
   ]
  },
  {
   "cell_type": "code",
   "execution_count": 11,
   "metadata": {},
   "outputs": [
    {
     "name": "stdout",
     "output_type": "stream",
     "text": [
      "Testing set Mean Abs Error:    3.49\n",
      "Testing set Mean Squared Error:   18.41\n"
     ]
    }
   ],
   "source": [
    "# calculate performance\n",
    "[loss, mae] = model.evaluate(test_inputs[:-10], test_targets[:-10], verbose=0)\n",
    "\n",
    "print(\"Testing set Mean Abs Error: {:7.2f}\".format(mae))\n",
    "print(\"Testing set Mean Squared Error: {:7.2f}\".format(loss))"
   ]
  },
  {
   "cell_type": "code",
   "execution_count": 12,
   "metadata": {},
   "outputs": [],
   "source": [
    "# get predictions\n",
    "test_predictions = model.predict(test_inputs).flatten()"
   ]
  },
  {
   "cell_type": "code",
   "execution_count": 13,
   "metadata": {},
   "outputs": [
    {
     "data": {
      "image/png": "[encoded data removed]",
      "text/plain": [
       "<Figure size 432x288 with 1 Axes>"
      ]
     },
     "metadata": {},
     "output_type": "display_data"
    }
   ],
   "source": [
    "# graph predicted vs. actual scores\n",
    "def plot_predict():\n",
    "  plt.figure()\n",
    "  plt.title('Tight Ends: Predicted vs. Actual Scores')\n",
    "  plt.xlabel('Most Recent 100 Predictions')\n",
    "  plt.ylabel('Score')\n",
    "  plt.plot(np.array(test_predictions[110:210]), label = \"Predicted Score\", color=\"red\")\n",
    "  plt.plot(np.array(test_targets[110:210]), label = \"Actual Score\", color=\"grey\")\n",
    "  plt.legend()\n",
    "  plt.ylim([0,50])\n",
    "\n",
    "plot_predict()"
   ]
  },
  {
   "cell_type": "code",
   "execution_count": 14,
   "metadata": {},
   "outputs": [
    {
     "name": "stdout",
     "output_type": "stream",
     "text": [
      "[['Rob ', 'Gronkowski', 1, 2018, 0, 9.187991], ['Travis', 'Kelce', 1, 2018, 0, 7.404522], ['Zach', 'Ertz', 1, 2018, 0, 5.07658], ['Greg', 'Olsen', 1, 2018, 0, 5.522263], ['Evan', 'Engram', 1, 2018, 0, 6.210526], ['Delanie', 'Walker', 1, 2018, 0, 6.7991834], ['Jordan', 'Reed', 1, 2018, 0, 3.3746274], ['Jimmy', 'Graham', 1, 2018, 0, 6.428701], ['Jack', 'Doyle', 1, 2018, 0, 6.9027343], ['Kyle', 'Rudolph', 1, 2018, 0, 9.2230425]]\n"
     ]
    }
   ],
   "source": [
    "# get 2018 predictions\n",
    "predict2018 = test_predictions[-10:]\n",
    "TEtest_labels = labels[-10:]\n",
    "\n",
    "fullList = []\n",
    "\n",
    "for i in range(0, len(predict2018)):\n",
    "    mylist = []\n",
    "    mylist.append(TEtest_labels[i][0])\n",
    "    mylist.append(TEtest_labels[i][1])\n",
    "    mylist.append(int(TEtest_labels[i][2]))\n",
    "    mylist.append(int(TEtest_labels[i][3]))\n",
    "    mylist.append(0)\n",
    "    mylist.append(predict2018[i])\n",
    "    fullList.append(mylist)\n",
    "print (fullList)"
   ]
  },
  {
   "cell_type": "code",
   "execution_count": 15,
   "metadata": {},
   "outputs": [],
   "source": [
    "# place predictions in a csv for easy placement into the database\n",
    "import csv\n",
    "from pandas import read_csv \n",
    "\n",
    "with open(\"TE2018Output.csv\",\"w\",newline=\"\") as newFile: \n",
    "    cw = csv.writer(newFile, delimiter=',')\n",
    "    for i in fullList:\n",
    "        cw.writerow(i)\n",
    "        \n",
    "TEformat = read_csv('TE2018Output.csv', sep=',', names=['fname', 'lname', 'week', 'yr', 'actual', 'predicted'])       \n",
    "TEformat.to_csv('TE2018Output.csv', index=False)"
   ]
  },
  {
   "cell_type": "code",
   "execution_count": 16,
   "metadata": {},
   "outputs": [
    {
     "name": "stderr",
     "output_type": "stream",
     "text": [
      "/home/ubuntu/anaconda3/envs/tensorflow_p36/lib/python3.6/site-packages/psycopg2/__init__.py:144: UserWarning: The psycopg2 wheel package will be renamed from release 2.8; in order to keep installing from binary please use \"pip install psycopg2-binary\" instead. For details see: <http://initd.org/psycopg/docs/install.html#binary-install-from-pypi>.\n",
      "  \"\"\")\n"
     ]
    }
   ],
   "source": [
    "# set up database connection\n",
    "import psycopg2\n",
    "conn = psycopg2.connect(database=\"Cepheus_db\",\n",
    "                        user=\"db_usr\",\n",
    "                        password=\"B3av3rs1!\",\n",
    "                        host=\"osucepheus.cgwruhobay1w.us-east-2.rds.amazonaws.com\",\n",
    "                        port=\"5432\")"
   ]
  },
  {
   "cell_type": "code",
   "execution_count": 17,
   "metadata": {},
   "outputs": [],
   "source": [
    "#Create cursor with which to execute queries\n",
    "cur = conn.cursor()"
   ]
  },
  {
   "cell_type": "code",
   "execution_count": 18,
   "metadata": {},
   "outputs": [
    {
     "name": "stdout",
     "output_type": "stream",
     "text": [
      "INSERT INTO te_results(fname, lname, week, yr, actual, predicted) VALUES ('Rob ', 'Gronkowski', '1', '2018', '0', '9.187991')\n",
      "INSERT INTO te_results(fname, lname, week, yr, actual, predicted) VALUES ('Travis', 'Kelce', '1', '2018', '0', '7.404522')\n",
      "INSERT INTO te_results(fname, lname, week, yr, actual, predicted) VALUES ('Zach', 'Ertz', '1', '2018', '0', '5.07658')\n",
      "INSERT INTO te_results(fname, lname, week, yr, actual, predicted) VALUES ('Greg', 'Olsen', '1', '2018', '0', '5.522263')\n",
      "INSERT INTO te_results(fname, lname, week, yr, actual, predicted) VALUES ('Evan', 'Engram', '1', '2018', '0', '6.210526')\n",
      "INSERT INTO te_results(fname, lname, week, yr, actual, predicted) VALUES ('Delanie', 'Walker', '1', '2018', '0', '6.7991834')\n",
      "INSERT INTO te_results(fname, lname, week, yr, actual, predicted) VALUES ('Jordan', 'Reed', '1', '2018', '0', '3.3746273999999996')\n",
      "INSERT INTO te_results(fname, lname, week, yr, actual, predicted) VALUES ('Jimmy', 'Graham', '1', '2018', '0', '6.428701')\n",
      "INSERT INTO te_results(fname, lname, week, yr, actual, predicted) VALUES ('Jack', 'Doyle', '1', '2018', '0', '6.9027343')\n",
      "INSERT INTO te_results(fname, lname, week, yr, actual, predicted) VALUES ('Kyle', 'Rudolph', '1', '2018', '0', '9.2230425')\n"
     ]
    }
   ],
   "source": [
    "#parse csv\n",
    "with open ('TE2018Output.csv') as csvfile:\n",
    "    reader = csv.DictReader(csvfile, delimiter=',')\n",
    "    for row in reader:\n",
    "        #build query string\n",
    "        query1 = 'INSERT INTO te_results(fname, lname, week, yr, actual, predicted) VALUES '\n",
    "        query2 =row['fname'], row['lname'], row['week'], row['yr'], row['actual'], row['predicted']\n",
    "        query = str(query1) + str(query2)\n",
    "        print(query)\n",
    "        #execute query\n",
    "        cur.execute(query)\n",
    "#commit change\n",
    "conn.commit()"
   ]
  },
  {
   "cell_type": "code",
   "execution_count": null,
   "metadata": {},
   "outputs": [],
   "source": []
  }
 ],
 "metadata": {
  "kernelspec": {
   "display_name": "Python [conda env:tensorflow_p36]",
   "language": "python",
   "name": "conda-env-tensorflow_p36-py"
  },
  "language_info": {
   "codemirror_mode": {
    "name": "ipython",
    "version": 3
   },
   "file_extension": ".py",
   "mimetype": "text/x-python",
   "name": "python",
   "nbconvert_exporter": "python",
   "pygments_lexer": "ipython3",
   "version": "3.6.6"
  }
 },
 "nbformat": 4,
 "nbformat_minor": 2
}
