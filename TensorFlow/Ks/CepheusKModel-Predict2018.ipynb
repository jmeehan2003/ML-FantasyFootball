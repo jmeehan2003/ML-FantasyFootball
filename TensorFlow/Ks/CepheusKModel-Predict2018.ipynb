{
 "cells": [
  {
   "cell_type": "code",
   "execution_count": 1,
   "metadata": {},
   "outputs": [
    {
     "name": "stderr",
     "output_type": "stream",
     "text": [
      "/home/ubuntu/anaconda3/envs/tensorflow_p36/lib/python3.6/site-packages/h5py/__init__.py:36: FutureWarning: Conversion of the second argument of issubdtype from `float` to `np.floating` is deprecated. In future, it will be treated as `np.float64 == np.dtype(float).type`.\n",
      "  from ._conv import register_converters as _register_converters\n"
     ]
    }
   ],
   "source": [
    "# Author: James Meehan\n",
    "# Date: 8/15/2018\n",
    "# Description: Machine learning model to Predict Week 1 2018 fantasy scores for kickers\n",
    "\n",
    "# import libraries\n",
    "import tensorflow as tf\n",
    "from tensorflow import keras\n",
    "\n",
    "import numpy as np\n",
    "import pandas as pd\n",
    "from sklearn import preprocessing"
   ]
  },
  {
   "cell_type": "code",
   "execution_count": 2,
   "metadata": {},
   "outputs": [
    {
     "name": "stdout",
     "output_type": "stream",
     "text": [
      "[[  5.   0. 143. ...   1.   1.   0.]\n",
      " [  5.   1. 102. ...   0.   0.   0.]\n",
      " [  5.   0. 117. ...   3.   3.   2.]\n",
      " ...\n",
      " [ 19.   1. 121. ...   3.   3.   0.]\n",
      " [ 22.   1. 148. ...   3.   3.   0.]\n",
      " [ 28.   1. 119. ...   5.   3.   0.]]\n"
     ]
    }
   ],
   "source": [
    "# pull in data, separate into data stack, labels, and actual scores\n",
    "df = pd.read_csv('Kickerstack2018.csv', sep=',', )\n",
    "pts_targets = df\n",
    "labels = df\n",
    "\n",
    "labels = labels.loc[0:, 'fname':'actual']\n",
    "labels = labels.values\n",
    "\n",
    "df = df.loc[0:, 'rating':'gt50_2wk']\n",
    "pts_targets = pts_targets.loc[0:, 'actual']\n",
    "\n",
    "df = df.values\n",
    "df.shape\n",
    "print(df)"
   ]
  },
  {
   "cell_type": "code",
   "execution_count": 3,
   "metadata": {},
   "outputs": [
    {
     "name": "stdout",
     "output_type": "stream",
     "text": [
      "[[-1.1928633  -1.00489599  1.02227569 ... -0.7411084  -0.55168681\n",
      "  -0.45473185]\n",
      " [-1.1928633   0.99512786 -0.7602153  ... -1.49288765 -1.34971131\n",
      "  -0.45473185]\n",
      " [-1.1928633  -1.00489599 -0.10808445 ...  0.76245012  1.04436219\n",
      "   4.0595152 ]\n",
      " ...\n",
      " [ 0.72099252  0.99512786  0.06581711 ...  0.76245012  1.04436219\n",
      "  -0.45473185]\n",
      " [ 1.13110448  0.99512786  1.23965264 ...  0.76245012  1.04436219\n",
      "  -0.45473185]\n",
      " [ 1.9513284   0.99512786 -0.02113367 ...  2.26600863  1.04436219\n",
      "  -0.45473185]]\n"
     ]
    }
   ],
   "source": [
    "# normalize the inputs\n",
    "scaled_inputs = preprocessing.scale(df)\n",
    "print(scaled_inputs)\n",
    "\n",
    "samples_count = scaled_inputs.shape[0]\n",
    "\n",
    "# split into training and test groups (80% training / 20% testing)\n",
    "train_samples = int(0.8*samples_count)\n",
    "test_samples = int(samples_count - train_samples)\n",
    "\n",
    "train_inputs = scaled_inputs[:train_samples]\n",
    "train_targets = pts_targets[:train_samples]\n",
    "\n",
    "test_inputs = scaled_inputs[train_samples:]\n",
    "test_targets = pts_targets[train_samples:]"
   ]
  },
  {
   "cell_type": "code",
   "execution_count": 4,
   "metadata": {},
   "outputs": [
    {
     "name": "stdout",
     "output_type": "stream",
     "text": [
      "Training set: (1310, 24)\n",
      "Testing set:  (328, 24)\n"
     ]
    }
   ],
   "source": [
    "print(\"Training set: {}\".format(train_inputs.shape))  # 1310 examples, 24 features\n",
    "print(\"Testing set:  {}\".format(test_inputs.shape))   # 328 examples, 24 features"
   ]
  },
  {
   "cell_type": "code",
   "execution_count": 5,
   "metadata": {},
   "outputs": [
    {
     "name": "stdout",
     "output_type": "stream",
     "text": [
      "_________________________________________________________________\n",
      "Layer (type)                 Output Shape              Param #   \n",
      "=================================================================\n",
      "dense (Dense)                (None, 20)                500       \n",
      "_________________________________________________________________\n",
      "dense_1 (Dense)              (None, 1)                 21        \n",
      "=================================================================\n",
      "Total params: 521\n",
      "Trainable params: 521\n",
      "Non-trainable params: 0\n",
      "_________________________________________________________________\n"
     ]
    }
   ],
   "source": [
    "# build the neural network.  1 hidden layer with 20 neurons.\n",
    "def build_model():\n",
    "  model = keras.Sequential([\n",
    "    keras.layers.Dense(20, activation=tf.nn.relu, \n",
    "                       input_shape=(train_inputs.shape[1],)),\n",
    "  # keras.layers.Dense(20, activation=tf.nn.relu),\n",
    "  # keras.layers.Dense(30, activation=tf.nn.relu),\n",
    "    keras.layers.Dense(1)\n",
    "  ])\n",
    "  #AdamOptimizer\n",
    "  optimizer = tf.train.AdamOptimizer(0.002)\n",
    "\n",
    "  model.compile(loss='mse',\n",
    "                optimizer=optimizer,\n",
    "                metrics=['mae'])\n",
    "  return model\n",
    "\n",
    "model = build_model()\n",
    "model.summary()"
   ]
  },
  {
   "cell_type": "code",
   "execution_count": 6,
   "metadata": {},
   "outputs": [
    {
     "name": "stdout",
     "output_type": "stream",
     "text": [
      "\n",
      ".................................................."
     ]
    }
   ],
   "source": [
    "# Display training progress by printing a single dot for each completed epoch.\n",
    "class PrintDot(keras.callbacks.Callback):\n",
    "  def on_epoch_end(self,epoch,logs):\n",
    "    if epoch % 100 == 0: print('')\n",
    "    print('.', end='')\n",
    "\n",
    "EPOCHS = 50\n",
    "\n",
    "# Store training stats\n",
    "history = model.fit(train_inputs, train_targets, epochs=EPOCHS,\n",
    "                    validation_split=0.2, verbose=0,\n",
    "                    callbacks=[PrintDot()])"
   ]
  },
  {
   "cell_type": "code",
   "execution_count": 8,
   "metadata": {},
   "outputs": [
    {
     "data": {
      "image/png": "[encoded data removed]",
      "text/plain": [
       "<Figure size 432x288 with 1 Axes>"
      ]
     },
     "metadata": {},
     "output_type": "display_data"
    }
   ],
   "source": [
    "# graph training\n",
    "import matplotlib.pyplot as plt\n",
    "\n",
    "def plot_history(history):\n",
    "  plt.figure()\n",
    "  plt.xlabel('Epoch')\n",
    "  plt.ylabel('Mean Abs Error')\n",
    "  plt.plot(history.epoch, np.array(history.history['mean_absolute_error']), \n",
    "           label='Train Loss')\n",
    "  plt.plot(history.epoch, np.array(history.history['val_mean_absolute_error']),\n",
    "           label = 'Val loss')\n",
    "  plt.legend()\n",
    "  plt.ylim([0,5])\n",
    "\n",
    "plot_history(history)"
   ]
  },
  {
   "cell_type": "code",
   "execution_count": 9,
   "metadata": {},
   "outputs": [
    {
     "name": "stdout",
     "output_type": "stream",
     "text": [
      "Testing set Mean Abs Error:    3.66\n",
      "Testing set Mean Squared Error:   21.69\n"
     ]
    }
   ],
   "source": [
    "# calculate performance\n",
    "[loss, mae] = model.evaluate(test_inputs[:-10], test_targets[:-10], verbose=0)\n",
    "\n",
    "print(\"Testing set Mean Abs Error: {:7.2f}\".format(mae))\n",
    "print(\"Testing set Mean Squared Error: {:7.2f}\".format(loss))"
   ]
  },
  {
   "cell_type": "code",
   "execution_count": 10,
   "metadata": {},
   "outputs": [],
   "source": [
    "# get predictions\n",
    "test_predictions = model.predict(test_inputs).flatten()"
   ]
  },
  {
   "cell_type": "code",
   "execution_count": 11,
   "metadata": {},
   "outputs": [
    {
     "data": {
      "image/png": "[encoded data removed]",
      "text/plain": [
       "<Figure size 432x288 with 1 Axes>"
      ]
     },
     "metadata": {},
     "output_type": "display_data"
    }
   ],
   "source": [
    "# grpah predictions vs. actual scores\n",
    "def plot_predict():\n",
    "  plt.figure()\n",
    "  plt.title('Kickers: Predicted vs. Actual Scores')\n",
    "  plt.xlabel('Most Recent 100 Predictions')\n",
    "  plt.ylabel('Score')\n",
    "  plt.plot(np.array(test_predictions[216:316]), label = \"Predicted Score\",color=\"red\")\n",
    "  plt.plot(np.array(test_targets[216:316]), label = \"Actual Score\", color=\"grey\")\n",
    "  plt.legend()\n",
    "  plt.ylim([0,50])\n",
    "\n",
    "plot_predict()"
   ]
  },
  {
   "cell_type": "code",
   "execution_count": 12,
   "metadata": {},
   "outputs": [
    {
     "name": "stdout",
     "output_type": "stream",
     "text": [
      "[['Chris', 'Boswell', 1, 2018, 0, 9.034925], ['Greg', 'Zuerlein', 1, 2018, 0, 11.21442], ['Stephen', 'Gostkowski', 1, 2018, 0, 8.805497], ['Matt', 'Bryant', 1, 2018, 0, 8.887028], ['Matt', 'Prater', 1, 2018, 0, 9.650903], ['Justin', 'Tucker', 1, 2018, 0, 9.423154], ['Robbie', 'Gould', 1, 2018, 0, 12.345966], ['Graham', 'Gano', 1, 2018, 0, 6.97316], ['Will', 'Lutz', 1, 2018, 0, 8.323889], ['Adam', 'Vinatieri', 1, 2018, 0, 8.340404]]\n"
     ]
    }
   ],
   "source": [
    "# get 2018 predictions\n",
    "predict2018 = test_predictions[-10:]\n",
    "Ktest_labels = labels[-10:]\n",
    "\n",
    "fullList = []\n",
    "\n",
    "for i in range(0, len(predict2018)):\n",
    "    mylist = []\n",
    "    mylist.append(Ktest_labels[i][0])\n",
    "    mylist.append(Ktest_labels[i][1])\n",
    "    mylist.append(int(Ktest_labels[i][2]))\n",
    "    mylist.append(int(Ktest_labels[i][3]))\n",
    "    mylist.append(0)\n",
    "    mylist.append(predict2018[i])\n",
    "    fullList.append(mylist)\n",
    "print (fullList)"
   ]
  },
  {
   "cell_type": "code",
   "execution_count": 13,
   "metadata": {},
   "outputs": [],
   "source": [
    "# put predictions in a csv for easy placement into the database\n",
    "import csv\n",
    "from pandas import read_csv \n",
    "\n",
    "with open(\"K2018Output.csv\",\"w\",newline=\"\") as newFile: \n",
    "    cw = csv.writer(newFile, delimiter=',')\n",
    "    for i in fullList:\n",
    "        cw.writerow(i)\n",
    "        \n",
    "Kformat = read_csv('K2018Output.csv', sep=',', names=['fname', 'lname', 'week', 'yr', 'actual', 'predicted'])       \n",
    "Kformat.to_csv('K2018Output.csv', index=False)"
   ]
  },
  {
   "cell_type": "code",
   "execution_count": 14,
   "metadata": {},
   "outputs": [
    {
     "name": "stderr",
     "output_type": "stream",
     "text": [
      "/home/ubuntu/anaconda3/envs/tensorflow_p36/lib/python3.6/site-packages/psycopg2/__init__.py:144: UserWarning: The psycopg2 wheel package will be renamed from release 2.8; in order to keep installing from binary please use \"pip install psycopg2-binary\" instead. For details see: <http://initd.org/psycopg/docs/install.html#binary-install-from-pypi>.\n",
      "  \"\"\")\n"
     ]
    }
   ],
   "source": [
    "# set up database connection\n",
    "import psycopg2\n",
    "conn = psycopg2.connect(database=\"Cepheus_db\",\n",
    "                        user=\"db_usr\",\n",
    "                        password=\"B3av3rs1!\",\n",
    "                        host=\"osucepheus.cgwruhobay1w.us-east-2.rds.amazonaws.com\",\n",
    "                        port=\"5432\")"
   ]
  },
  {
   "cell_type": "code",
   "execution_count": 15,
   "metadata": {},
   "outputs": [],
   "source": [
    "#Create cursor with which to execute queries\n",
    "cur = conn.cursor()"
   ]
  },
  {
   "cell_type": "code",
   "execution_count": 16,
   "metadata": {},
   "outputs": [
    {
     "name": "stdout",
     "output_type": "stream",
     "text": [
      "INSERT INTO kicker_results(fname, lname, week, yr, actual, predicted) VALUES ('Chris', 'Boswell', '1', '2018', '0', '9.034925')\n",
      "INSERT INTO kicker_results(fname, lname, week, yr, actual, predicted) VALUES ('Greg', 'Zuerlein', '1', '2018', '0', '11.21442')\n",
      "INSERT INTO kicker_results(fname, lname, week, yr, actual, predicted) VALUES ('Stephen', 'Gostkowski', '1', '2018', '0', '8.805497')\n",
      "INSERT INTO kicker_results(fname, lname, week, yr, actual, predicted) VALUES ('Matt', 'Bryant', '1', '2018', '0', '8.887027999999999')\n",
      "INSERT INTO kicker_results(fname, lname, week, yr, actual, predicted) VALUES ('Matt', 'Prater', '1', '2018', '0', '9.650903')\n",
      "INSERT INTO kicker_results(fname, lname, week, yr, actual, predicted) VALUES ('Justin', 'Tucker', '1', '2018', '0', '9.423153999999998')\n",
      "INSERT INTO kicker_results(fname, lname, week, yr, actual, predicted) VALUES ('Robbie', 'Gould', '1', '2018', '0', '12.345966')\n",
      "INSERT INTO kicker_results(fname, lname, week, yr, actual, predicted) VALUES ('Graham', 'Gano', '1', '2018', '0', '6.973160000000001')\n",
      "INSERT INTO kicker_results(fname, lname, week, yr, actual, predicted) VALUES ('Will', 'Lutz', '1', '2018', '0', '8.323889')\n",
      "INSERT INTO kicker_results(fname, lname, week, yr, actual, predicted) VALUES ('Adam', 'Vinatieri', '1', '2018', '0', '8.340404')\n"
     ]
    }
   ],
   "source": [
    "#parse csv\n",
    "with open ('K2018Output.csv') as csvfile:\n",
    "    reader = csv.DictReader(csvfile, delimiter=',')\n",
    "    for row in reader:\n",
    "        #build query string\n",
    "        query1 = 'INSERT INTO kicker_results(fname, lname, week, yr, actual, predicted) VALUES '\n",
    "        query2 =row['fname'], row['lname'], row['week'], row['yr'], row['actual'], row['predicted']\n",
    "        query = str(query1) + str(query2)\n",
    "        print(query)\n",
    "        #execute query\n",
    "        cur.execute(query)\n",
    "#commit change\n",
    "conn.commit()"
   ]
  },
  {
   "cell_type": "code",
   "execution_count": null,
   "metadata": {},
   "outputs": [],
   "source": []
  }
 ],
 "metadata": {
  "kernelspec": {
   "display_name": "Python [conda env:tensorflow_p36]",
   "language": "python",
   "name": "conda-env-tensorflow_p36-py"
  },
  "language_info": {
   "codemirror_mode": {
    "name": "ipython",
    "version": 3
   },
   "file_extension": ".py",
   "mimetype": "text/x-python",
   "name": "python",
   "nbconvert_exporter": "python",
   "pygments_lexer": "ipython3",
   "version": "3.6.6"
  }
 },
 "nbformat": 4,
 "nbformat_minor": 2
}
